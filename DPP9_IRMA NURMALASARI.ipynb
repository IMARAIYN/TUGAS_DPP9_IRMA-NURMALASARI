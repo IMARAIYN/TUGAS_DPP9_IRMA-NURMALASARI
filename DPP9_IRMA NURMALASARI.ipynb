{
 "cells": [
  {
   "cell_type": "code",
   "execution_count": 35,
   "id": "e15c8a1c",
   "metadata": {},
   "outputs": [
    {
     "name": "stdout",
     "output_type": "stream",
     "text": [
      "array('i', [10, 20, 30, 40, 90, 80])\n",
      "elemen array terakhir: 80\n"
     ]
    }
   ],
   "source": [
    "'''Array adalah tipe data yang berisi kumpulan dari beberapa nilai. Nilai yang terdapat\n",
    "dalam array disebut dengan elemen, dan pada setiap elemen memiliki nomor pengenal\n",
    "yang dikenal dengan istilah indeks Penomoran indeks di dalam array dimulai dari angka 0,\n",
    "sehingga elemen pertama berada di index 0, elemen kedua berada di indeks 1, sehingga\n",
    "dapat disimpulkan bahwa elemen yang ke n berada pada indeks n-1'''\n",
    "\n",
    "#import library array sebagai alias\n",
    "import array as arr\n",
    "arr_int = arr.array('i',[10,20,30,40,90,80])\n",
    "print(arr_int)\n",
    "arr.array('i', [10, 20, 30, 40, 90, 80])\n",
    "pjg_array = len(arr_int)\n",
    "print(\"elemen array terakhir:\",arr_int[pjg_array-1])\n"
   ]
  },
  {
   "cell_type": "code",
   "execution_count": 15,
   "id": "84751cbb",
   "metadata": {},
   "outputs": [
    {
     "name": "stdout",
     "output_type": "stream",
     "text": [
      "10\n",
      "20\n",
      "30\n",
      "40\n",
      "90\n",
      "80\n",
      "--------------------------------\n"
     ]
    }
   ],
   "source": [
    "#Looping mengakses nilai elemen tanpa mengetahui indeks\n",
    "arr_int = arr.array('i',[10,20,30,40,90,80])\n",
    "for i in arr_int:\n",
    "    print(i)\n",
    "print('--------------------------------')\n"
   ]
  },
  {
   "cell_type": "code",
   "execution_count": 19,
   "id": "3116602f",
   "metadata": {},
   "outputs": [
    {
     "name": "stdout",
     "output_type": "stream",
     "text": [
      "10\n",
      "30\n",
      "60\n",
      "100\n",
      "190\n",
      "270\n",
      "nilai rata-rata: 45.0\n"
     ]
    }
   ],
   "source": [
    "#looping mengakses nilai elemen dengan paramter indeks\n",
    "total = 0\n",
    "for j in range(pjg_array):\n",
    "    total = total + arr_int[j]\n",
    "    print(total)\n",
    "    rata2 = total / pjg_array\n",
    "print(f\"nilai rata-rata: {rata2}\")\n"
   ]
  },
  {
   "cell_type": "code",
   "execution_count": 21,
   "id": "3475a176",
   "metadata": {},
   "outputs": [
    {
     "name": "stdout",
     "output_type": "stream",
     "text": [
      "array('i', [10, 20, 30, 66, 66, 40, 90, 80])\n",
      "array('i', [80, 20, 30, 66, 66, 40, 90, 80])\n",
      "array('i', [20, 30, 66, 66, 40, 90, 80])\n",
      "array('i', [20, 30, 66, 66, 40, 90])\n"
     ]
    },
    {
     "data": {
      "text/plain": [
       "1"
      ]
     },
     "execution_count": 21,
     "metadata": {},
     "output_type": "execute_result"
    }
   ],
   "source": [
    "posisi = 3\n",
    "nilai = 66\n",
    "arr_int.insert(posisi,nilai)\n",
    "print(arr_int)\n",
    "arr.array('i', [10, 20, 30, 66, 40, 90, 80])\n",
    "arr_int[0] = 80\n",
    "print(arr_int)\n",
    "arr.array('i', [80, 20, 30, 66, 40, 90, 80])\n",
    "arr_int.remove(80)\n",
    "print(arr_int)\n",
    "arr_int.pop()\n",
    "print(arr_int)\n",
    "arr.array('i', [20, 30, 66, 40, 90, 80])\n",
    "arr.array('i', [20, 30, 66, 40, 90])\n",
    "arr_int.index(30)"
   ]
  },
  {
   "cell_type": "code",
   "execution_count": 25,
   "id": "74570665",
   "metadata": {},
   "outputs": [
    {
     "name": "stdout",
     "output_type": "stream",
     "text": [
      "array('u')\n",
      "array('u', 'OXOXXOXOXX')\n"
     ]
    },
    {
     "data": {
      "text/plain": [
       "array('u', 'OXOXXOXOXX')"
      ]
     },
     "execution_count": 25,
     "metadata": {},
     "output_type": "execute_result"
    }
   ],
   "source": [
    "#SOAL NO 1\n",
    "''''Sebuah kamar kost di daerah cisaat terdiri dari 1 lantai dan 10 kamar. Pemilik kost\n",
    "menandai kamar dengan tanda 'O' jika ada penghuninya dan tanda 'X' jika masih\n",
    "kosong. Reperesentasikan permasalahan tersebut dimana kamar yang sudah terisi\n",
    "adalah kamar 2,4,7 dan 9.'''\n",
    "#import library array\n",
    "import array as arr\n",
    "kamar=arr.array('u',[])\n",
    "print(kamar)\n",
    "kamar=arr.array('u',[])\n",
    "for i in range(10):\n",
    "    if i+1==2 or i+1==4 or i+1==7 or i+1==9:\n",
    "        kamar.insert(i-1,'O')\n",
    "    else:\n",
    "        kamar.insert(i+1,'X')\n",
    "print(kamar)\n",
    "arr.array('u')\n",
    "arr.array('u', 'OXOXXOXOXX')"
   ]
  },
  {
   "cell_type": "code",
   "execution_count": 27,
   "id": "aa060ef7",
   "metadata": {},
   "outputs": [
    {
     "name": "stdout",
     "output_type": "stream",
     "text": [
      "kamar yang kosong di nomor array('i', [9])\n",
      "total kamar kosong 6\n"
     ]
    }
   ],
   "source": [
    "#SOAL NO 2\n",
    "'''Berdasarkan soal 1, hitunglah berapa jumlah kamar yang masih kosong dan\n",
    "sebutkan kamar nomor berapa saja!'''\n",
    "#Your Code here\n",
    "import array as arr\n",
    "kamarkosan = arr.array('u',['X','O','X','O','X','X','O','X','O','X'])\n",
    "nomor_yang_kosong = arr.array('i',[])\n",
    "jumlahkosong = 0\n",
    "for index in range(len(kamarkosan)):\n",
    "    if kamarkosan[index]== \"X\":\n",
    "        jumlahkosong += 1\n",
    "nomor_yang_kosong.append(index)\n",
    "print(f'kamar yang kosong di nomor {nomor_yang_kosong}')\n",
    "print(f\"total kamar kosong {jumlahkosong}\")"
   ]
  },
  {
   "cell_type": "code",
   "execution_count": 28,
   "id": "209e9aa8",
   "metadata": {},
   "outputs": [
    {
     "name": "stdout",
     "output_type": "stream",
     "text": [
      "array('u', 'OXOXXOXOXX')\n",
      "array('u')\n"
     ]
    }
   ],
   "source": [
    "#SOAL NO 3\n",
    "'''Pada tahun 2022 pemilik kost ingin mengubah fungsi kamar kost menjadi rumah\n",
    "pribadi, sehingga kamar kost tersebut dirobohkan. Representasikan permasalahan\n",
    "tersebut kedalam fungsi array'''\n",
    "#Your code here\n",
    "import array as arr\n",
    "kamarkosan = arr.array('u',['O','X','O','X','X','O','X','O','X','X'])\n",
    "print(kamarkosan)\n",
    "for i in range(len(kamarkosan)):\n",
    "    kamarkosan.pop()\n",
    "print(kamarkosan)"
   ]
  },
  {
   "cell_type": "code",
   "execution_count": 34,
   "id": "294ee184",
   "metadata": {},
   "outputs": [
    {
     "name": "stdout",
     "output_type": "stream",
     "text": [
      "berapa uang yang akan di bayarkan: 50000\n",
      "berapa tahu yang akan di beli: 15\n",
      "Total harga yang dibeli 15000\n",
      "Uang kembali 35000\n",
      "Sisa Tahu 85\n",
      "Posisi akhir rak :  [0, 5, 10, 10, 10, 10, 10, 10, 10, 10]\n"
     ]
    }
   ],
   "source": [
    "#SOAL NO 4\n",
    "'''Seorang penjual tahu menata raknya seperti berikut ini:\n",
    "[10,10,10,10,10,10,10,10,10,10] Setiap 1 tahu dijual dengan harga 1_000. Buatlah\n",
    "implementasi program yang mempunyai input uang dan jumlah tahu yang akan\n",
    "dibeli. Contoh input outputnya seperti berikut ini: input uang : 100_000 jumlah tahu\n",
    "yang akan dibeli: 20\n",
    "Output: Total harga yang dibeli : 20_000 Uang Kembali : 80_000 Sisa Tahu : 80 Posisi Akhir\n",
    "Rak : [0,0,10,10,10,10,10,10,10,10]'''\n",
    "import array as arr\n",
    "# stok_tahu = [10,10,10,10,10,10,10,10,10,10]\n",
    "stok_tahu = arr.array('i',[10,10,10,10,10,10,10,10,10,10])\n",
    "harga = 1000\n",
    "uang = int(input('berapa uang yang akan di bayarkan: '))\n",
    "banyak_tahu_dibeli = int(input('berapa tahu yang akan di beli: '))\n",
    "for d in range(banyak_tahu_dibeli):\n",
    "    if d < 10:\n",
    "        stok_tahu[0] -= 1\n",
    "    elif d <= 20:\n",
    "        stok_tahu[1] -= 1\n",
    "    elif d < 30:\n",
    "        stok_tahu[2] -= 1\n",
    "    elif d < 40:\n",
    "        stok_tahu[3] -= 1\n",
    "    elif d < 50:\n",
    "        stok_tahu[4] -= 1\n",
    "    elif d < 60:\n",
    "        stok_tahu[5] -= 1\n",
    "    elif d < 70:\n",
    "        stok_tahu[6] -= 1\n",
    "    elif d < 80:\n",
    "        stok_tahu[7] -= 1\n",
    "    elif d < 90:\n",
    "        stok_tahu[8] -= 1\n",
    "    else:\n",
    "        stok_tahu[9] -= 1\n",
    "    total_bayar = banyak_tahu_dibeli*harga\n",
    "#output\n",
    "print(\"Total harga yang dibeli\",total_bayar)\n",
    "print(\"Uang kembali\",uang - total_bayar)\n",
    "print(\"Sisa Tahu\",sum(stok_tahu))\n",
    "print(\"Posisi akhir rak : \",list(stok_tahu))"
   ]
  },
  {
   "cell_type": "code",
   "execution_count": null,
   "id": "c4fedc76",
   "metadata": {},
   "outputs": [],
   "source": []
  }
 ],
 "metadata": {
  "kernelspec": {
   "display_name": "Python 3 (ipykernel)",
   "language": "python",
   "name": "python3"
  },
  "language_info": {
   "codemirror_mode": {
    "name": "ipython",
    "version": 3
   },
   "file_extension": ".py",
   "mimetype": "text/x-python",
   "name": "python",
   "nbconvert_exporter": "python",
   "pygments_lexer": "ipython3",
   "version": "3.9.12"
  }
 },
 "nbformat": 4,
 "nbformat_minor": 5
}
